{
 "cells": [
  {
   "cell_type": "markdown",
   "metadata": {},
   "source": [
    "# Conceptos avanzados de funciones"
   ]
  },
  {
   "cell_type": "markdown",
   "metadata": {},
   "source": [
    "### Nested Functions\n",
    "\n",
    "Las Nested Functions o funciones anidadas son funciones que se crean dentro de otras funciones. Como por ejemplo:"
   ]
  },
  {
   "cell_type": "code",
   "execution_count": 3,
   "metadata": {},
   "outputs": [],
   "source": [
    "def funcion_():\n",
    "    def nested_():\n",
    "        pass"
   ]
  },
  {
   "cell_type": "markdown",
   "metadata": {},
   "source": [
    "### Closures\n",
    "\n",
    "Los Closures son cuando se usa una nested function para acceder al contenido de variables de scopes más bajos de des scopes más altos. Como por ejemplo:"
   ]
  },
  {
   "cell_type": "code",
   "execution_count": 4,
   "metadata": {},
   "outputs": [
    {
     "data": {
      "text/plain": [
       "<function __main__.funcion.<locals>.nested()>"
      ]
     },
     "execution_count": 4,
     "metadata": {},
     "output_type": "execute_result"
    }
   ],
   "source": [
    "def funcion():\n",
    "    variable: int = 1# 2.\n",
    "\n",
    "    def nested(): # 1.\n",
    "        print(variable)\n",
    "\n",
    "    return nested # 3.\n",
    "\n",
    "my_func = funcion\n",
    "my_func()"
   ]
  },
  {
   "cell_type": "markdown",
   "metadata": {},
   "source": [
    "Para que un closure sea un closure tiene que cumplir con 3 reglas:\n",
    "\n",
    "1. Debe tener una nested function\n",
    "2. La nested function debe referenciar a variables de un scope superior\n",
    "3. Debe retornar la nested function\n",
    "\n",
    "Ejemplo:\n"
   ]
  },
  {
   "cell_type": "code",
   "execution_count": 11,
   "metadata": {},
   "outputs": [
    {
     "name": "stdout",
     "output_type": "stream",
     "text": [
      ":'/ :'/ :'/ :'/ \n"
     ]
    }
   ],
   "source": [
    "#Código que repite n cantidad de veces una string...\n",
    "\n",
    "def make_repeter_of(n):\n",
    "    def repeter(string):\n",
    "        return string * n\n",
    "    return repeter\n",
    "\n",
    "def run():\n",
    "    repetir_4 = make_repeter_of(4)\n",
    "    print(repetir_4(\":'/ \"))\n",
    "\n",
    "run()\n",
    "\n",
    "\n",
    "#if __name__ == '__main__':\n",
    "#    run()\n"
   ]
  },
  {
   "cell_type": "code",
   "execution_count": 6,
   "metadata": {},
   "outputs": [
    {
     "name": "stdout",
     "output_type": "stream",
     "text": [
      "7.0\n",
      "70.0\n",
      "1.0\n"
     ]
    }
   ],
   "source": [
    "def make_division_by(n: int):\n",
    "    def division(number: int):\n",
    "        return number/n\n",
    "    return division\n",
    "\n",
    "def run():\n",
    "    division_by_3 = make_division_by(3)\n",
    "    print(division_by_3(21))\n",
    "\n",
    "    division_by_5 = make_division_by(5)\n",
    "    print(division_by_5(350))\n",
    "\n",
    "    division_by_9 = make_division_by(9)\n",
    "    print(division_by_9(9))\n",
    "\n",
    "run()\n"
   ]
  },
  {
   "cell_type": "markdown",
   "metadata": {},
   "source": [
    "### Decoradores\n",
    "\n",
    "Un Decorador es un closure especial que recibe una función, le añade funcionalidades (la \"decora\" jeje) y devuelve la función resultante.\n",
    "\n",
    "Ejemplo:"
   ]
  },
  {
   "cell_type": "code",
   "execution_count": 7,
   "metadata": {},
   "outputs": [
    {
     "name": "stdout",
     "output_type": "stream",
     "text": [
      "Hola\n",
      "-----\n",
      "Esto es un añadido a la función original\n",
      "\n",
      "Hola\n"
     ]
    }
   ],
   "source": [
    "#Decorador\n",
    "def decorador(func):\n",
    "    #envoltura(donde se añade)\n",
    "    def envoltura():\n",
    "        print('-----\\nEsto es un añadido a la función original\\n')\n",
    "        func()\n",
    "    return envoltura\n",
    "\n",
    "def saludo():\n",
    "    print('Hola')\n",
    "\n",
    "def run():\n",
    "    saludo()\n",
    "\n",
    "    saludo_mas_envoltura = decorador(saludo)\n",
    "    saludo_mas_envoltura()\n",
    "\n",
    "run()\n"
   ]
  },
  {
   "cell_type": "markdown",
   "metadata": {},
   "source": [
    "Pero esto puede ser más estético y entendibble (azúcar sintática) de la siguiente manera:"
   ]
  },
  {
   "cell_type": "code",
   "execution_count": 8,
   "metadata": {},
   "outputs": [
    {
     "name": "stdout",
     "output_type": "stream",
     "text": [
      "-----\n",
      "Esto es un añadido a la función original\n",
      "\n",
      "Hola\n"
     ]
    }
   ],
   "source": [
    "def decorador(func):\n",
    "    def envoltura():\n",
    "        print('-----\\nEsto es un añadido a la función original\\n')\n",
    "        func()\n",
    "    return envoltura\n",
    "\n",
    "@decorador #@<nombre de la función decoradora>, antes de definir la función a decorar\n",
    "def saludo():\n",
    "    print('Hola')\n",
    "\n",
    "def run():\n",
    "    saludo()\n",
    "\n",
    "\n",
    "run()\n"
   ]
  },
  {
   "cell_type": "markdown",
   "metadata": {},
   "source": [
    "Otro ejemplo..."
   ]
  },
  {
   "cell_type": "code",
   "execution_count": 9,
   "metadata": {},
   "outputs": [
    {
     "name": "stdout",
     "output_type": "stream",
     "text": [
      "HOLA, A\n"
     ]
    }
   ],
   "source": [
    "def mayusculas(func):\n",
    "    def envoltura(texto: str):\n",
    "        return func(texto).upper()\n",
    "    return envoltura\n",
    "\n",
    "@mayusculas\n",
    "def mensaje(nombre: str) -> str:\n",
    "    return f'Hola, {nombre}'\n",
    "\n",
    "def run():\n",
    "    nombre: str\n",
    "    nombre = input('¿Cuál es tu nombre?: ')\n",
    "\n",
    "    print(mensaje(nombre))\n",
    "\n",
    "run()"
   ]
  },
  {
   "cell_type": "markdown",
   "metadata": {},
   "source": [
    "UN GRAN EJEMPLO:\n",
    "\n",
    "Este ejemplo es un código que usa decoradores para lograr medir el tiempo que tardaa en ejecutarse una función."
   ]
  },
  {
   "cell_type": "code",
   "execution_count": 10,
   "metadata": {},
   "outputs": [
    {
     "name": "stdout",
     "output_type": "stream",
     "text": [
      "Pasaron 0.177282 segundos\n",
      "Pasaron 1.3e-05 segundos\n",
      "Hola :/\n",
      "Pasaron 0.000165 segundos\n"
     ]
    }
   ],
   "source": [
    "from datetime import datetime #Import the library that going to help us to get the exact time when we execute a function.\n",
    "\n",
    "def execution_time(func):\n",
    "    def wrapper(*args, **kwargs):\n",
    "        initial_time = datetime.now()\n",
    "        func(*args, **kwargs)\n",
    "        final_time = datetime.now()\n",
    "        time_elapsed = final_time - initial_time\n",
    "        print('Pasaron ' + str(time_elapsed.total_seconds()) + ' segundos')\n",
    "    return wrapper\n",
    "\n",
    "@execution_time\n",
    "def random_func():\n",
    "    for _ in range(1, 1000000):\n",
    "        pass\n",
    "\n",
    "@execution_time\n",
    "def suma(a: int, b: int) -> int:\n",
    "    return a + b\n",
    "\n",
    "@execution_time\n",
    "def saludo(nombre=\":/\"):\n",
    "    print(f\"Hola {nombre}\")\n",
    "\n",
    "def run():\n",
    "    random_func()\n",
    "    suma(2, 4)\n",
    "    saludo()\n",
    "\n",
    "run()\n",
    "\n",
    "# NOTAAAAA: *args y **kwargs (keyword arguments) sirve para permitir que la función reciba cualquier cantidad de parámetros y parámetros nombrados\n",
    "\n",
    "\n"
   ]
  }
 ],
 "metadata": {
  "kernelspec": {
   "display_name": "Python 3.10.4 ('cursAvanPy')",
   "language": "python",
   "name": "python3"
  },
  "language_info": {
   "codemirror_mode": {
    "name": "ipython",
    "version": 3
   },
   "file_extension": ".py",
   "mimetype": "text/x-python",
   "name": "python",
   "nbconvert_exporter": "python",
   "pygments_lexer": "ipython3",
   "version": "3.10.4"
  },
  "orig_nbformat": 4,
  "vscode": {
   "interpreter": {
    "hash": "007e9cd14e4ab2ac9e49fe4ba3df5eb994dcca3f99b136dae114f8605938b7b1"
   }
  }
 },
 "nbformat": 4,
 "nbformat_minor": 2
}
