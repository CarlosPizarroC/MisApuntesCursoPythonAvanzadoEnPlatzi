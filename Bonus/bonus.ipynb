{
 "cells": [
  {
   "cell_type": "markdown",
   "metadata": {},
   "source": [
    "# **Bonus**"
   ]
  },
  {
   "cell_type": "markdown",
   "metadata": {},
   "source": [
    "## **Manejo de fechas en python**"
   ]
  },
  {
   "cell_type": "markdown",
   "metadata": {},
   "source": [
    "### ***dateTime***"
   ]
  },
  {
   "cell_type": "markdown",
   "metadata": {},
   "source": [
    "Para el manejo de fechas nos es útil la librería ***datetime***.\n"
   ]
  },
  {
   "cell_type": "code",
   "execution_count": 5,
   "metadata": {},
   "outputs": [],
   "source": [
    "import datetime\n",
    "# help(datetime)"
   ]
  },
  {
   "cell_type": "markdown",
   "metadata": {},
   "source": [
    "Para acceder a las funciones necesarias en este caso, tenemos que llamar a su clase también llamada **datetime**"
   ]
  },
  {
   "cell_type": "code",
   "execution_count": 6,
   "metadata": {},
   "outputs": [
    {
     "name": "stdout",
     "output_type": "stream",
     "text": [
      "2022-09-09 12:11:58.765365\n"
     ]
    }
   ],
   "source": [
    "my_time = datetime.datetime.now()\n",
    "print(my_time)"
   ]
  },
  {
   "cell_type": "markdown",
   "metadata": {},
   "source": [
    "**NOTA:** Es importante intentar utilizar una hora universal, pues es posible trabajar con equipos en todo el mudo, por lo que resulta más conveniente acostumbrarse a usar *utcnow()*. Aunque también tenemos momentos donde el *now()* será suficiente  para lo que requerimos"
   ]
  },
  {
   "cell_type": "code",
   "execution_count": 7,
   "metadata": {},
   "outputs": [
    {
     "name": "stdout",
     "output_type": "stream",
     "text": [
      "2022-09-09 17:12:00.002134\n"
     ]
    }
   ],
   "source": [
    "my_time = datetime.datetime.utcnow()\n",
    "print(my_time)"
   ]
  },
  {
   "cell_type": "markdown",
   "metadata": {},
   "source": [
    "También tenemos a ***today()***, mediante el cual podemos acceder a las distintas partes de la fecha actual:\n"
   ]
  },
  {
   "cell_type": "code",
   "execution_count": 9,
   "metadata": {},
   "outputs": [
    {
     "name": "stdout",
     "output_type": "stream",
     "text": [
      "Year    : 2022\n",
      "Month   : 9\n",
      "Day     : 9\n"
     ]
    }
   ],
   "source": [
    "my_day = datetime.datetime.today()\n",
    "\n",
    "print(f'Year    : {my_day.year}')\n",
    "print(f'Month   : {my_day.month}')\n",
    "print(f'Day     : {my_day.day}')\n"
   ]
  },
  {
   "cell_type": "markdown",
   "metadata": {},
   "source": [
    "#### **Formateo de Fechas:**\n"
   ]
  },
  {
   "cell_type": "markdown",
   "metadata": {},
   "source": [
    "##### **Códigos \"Principales\":**"
   ]
  },
  {
   "cell_type": "markdown",
   "metadata": {},
   "source": [
    "Dado que con base a distintas variables, como el región objetivo, las fechas puede cambiar su formato. Para lograr esto podemos hacer uso de los siguientes códigos:\n",
    "\n",
    "%Y      :   Year\n",
    "\n",
    "%m      :   Month\n",
    "\n",
    "%day    :   Day\n",
    "\n",
    "%H      :   Hour\n",
    "\n",
    "%M      :   Minute\n",
    "\n",
    "%S      :   Second\n",
    "\n",
    "Hay muchos más códigos, pero estos pueden ser los de más utilidad.\n",
    "\n",
    "Para usarlos, se utiliza el método ***strftime()*** (StrigFormatTime)"
   ]
  },
  {
   "cell_type": "code",
   "execution_count": 13,
   "metadata": {},
   "outputs": [
    {
     "name": "stdout",
     "output_type": "stream",
     "text": [
      "Fecha formato LATAM: 09/09/2022\n",
      "Fecha formato USA: 09/09/2022\n",
      "Fecha formato Radom: Estamos en el año 2022\n"
     ]
    }
   ],
   "source": [
    "from datetime import datetime\n",
    "\n",
    "my_daytime = datetime.now()\n",
    "\n",
    "my_str = my_daytime.strftime('%d/%m/%Y')\n",
    "print(f'Fecha formato LATAM: {my_str}')\n",
    "\n",
    "my_str = my_daytime.strftime('%m/%d/%Y')\n",
    "print(f'Fecha formato USA: {my_str}')\n",
    "\n",
    "my_str = my_daytime.strftime('Estamos en el año %Y')\n",
    "print(f'Fecha formato Radom: {my_str}')"
   ]
  },
  {
   "cell_type": "markdown",
   "metadata": {},
   "source": [
    "##### **Otros códigos:**"
   ]
  },
  {
   "cell_type": "markdown",
   "metadata": {},
   "source": [
    "Como se mencionó, hay otros códigos que nos servirán para otros casos, por ejemplo, si queremos obtener el formato de hora de 12 horas se usaría *%I* en lugar de *%H*. Así mismo, podemos usar *%p* para agregar el AM ó PM:\n"
   ]
  },
  {
   "cell_type": "code",
   "execution_count": 15,
   "metadata": {},
   "outputs": [
    {
     "name": "stdout",
     "output_type": "stream",
     "text": [
      "La hora actual en formato de 24hrs es 12:47 PM\n",
      "La hora actual en formato de 12hrs es 12:47 PM\n"
     ]
    }
   ],
   "source": [
    "my_str = my_daytime.strftime('La hora actual en formato de 24hrs es %H:%M %p')\n",
    "print(my_str)\n",
    "\n",
    "my_str = my_daytime.strftime('La hora actual en formato de 12hrs es %I:%M %p')\n",
    "print(my_str)"
   ]
  },
  {
   "cell_type": "markdown",
   "metadata": {},
   "source": [
    "Podemos encontrar todos los códigos en https://docs.python.org/es/3/library/datetime.html#strftime-and-strptime-format-codes "
   ]
  },
  {
   "cell_type": "markdown",
   "metadata": {},
   "source": [
    "### **Zonas horarias**\n"
   ]
  },
  {
   "cell_type": "markdown",
   "metadata": {},
   "source": [
    "Para trabajar con zonas horarias necesitamos instalar el módulo llamado ***pytz***"
   ]
  },
  {
   "cell_type": "code",
   "execution_count": 7,
   "metadata": {},
   "outputs": [
    {
     "name": "stdout",
     "output_type": "stream",
     "text": [
      "Bogotá   :  11:08:16 AM,     10/09/2022\n",
      "Lima     :  11:08:16 AM,     10/09/2022\n"
     ]
    }
   ],
   "source": [
    "# time_zones.py\n",
    "\n",
    "from datetime import datetime\n",
    "import pytz\n",
    "\n",
    "bogota_timezone = pytz.timezone(\"America/Bogota\")   # Extraemos la zona horaria de Bogotá\n",
    "bogota_date = datetime.now(bogota_timezone)         # Sacamos el tiempo de ahora de la zona horaria en Bogotá\n",
    "print(\"Bogotá   : \", bogota_date.strftime(\"%H:%M:%S %p,     %d/%m/%Y\"))\n",
    "\n",
    "lima_timezone = pytz.timezone(\"America/Lima\")   # Extraemos la zona horaria de Bogotá\n",
    "lima_date = datetime.now(lima_timezone)         # Sacamos el tiempo de ahora de la zona horaria en Bogotá\n",
    "print(\"Lima     : \", lima_date.strftime(\"%H:%M:%S %p,     %d/%m/%Y\"))\n",
    "\n"
   ]
  }
 ],
 "metadata": {
  "kernelspec": {
   "display_name": "Python 3.10.4 ('cursAvanPy')",
   "language": "python",
   "name": "python3"
  },
  "language_info": {
   "codemirror_mode": {
    "name": "ipython",
    "version": 3
   },
   "file_extension": ".py",
   "mimetype": "text/x-python",
   "name": "python",
   "nbconvert_exporter": "python",
   "pygments_lexer": "ipython3",
   "version": "3.10.4"
  },
  "orig_nbformat": 4,
  "vscode": {
   "interpreter": {
    "hash": "007e9cd14e4ab2ac9e49fe4ba3df5eb994dcca3f99b136dae114f8605938b7b1"
   }
  }
 },
 "nbformat": 4,
 "nbformat_minor": 2
}
