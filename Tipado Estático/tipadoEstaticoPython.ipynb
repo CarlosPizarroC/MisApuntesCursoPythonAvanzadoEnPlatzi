{
 "cells": [
  {
   "cell_type": "markdown",
   "metadata": {},
   "source": [
    " # Tipado Estático en Python \n"
   ]
  },
  {
   "cell_type": "markdown",
   "metadata": {},
   "source": [
    "### ¿Por qúe Python presenta problemas al ser \"Dinámico\"?\n",
    "\n",
    "Python al ser un lenguaje de tipado \"Dinámico\" detecta los errores en tiempo de ejecución, dejando así las puertas abiertas a que ciertos errores no sean visibles hasta que por casulidad se encuentren en medio de la ejecución y posiblemente tiren el funcionamiento del programa.\n",
    "\n",
    " ##### Ejemplo:\n",
    "\n",
    "   En este ejemplo si ingresas un número el programa corre normal, pero si no ingresas nada no funciona. Situaciones de este estilo podrían dar paso a que algunos errores permanezcan ocultos en el programa hasta el dia que un \"usuario\" se tope con ellos y posiblemente rompa el programa en plena ejecución."
   ]
  },
  {
   "cell_type": "code",
   "execution_count": 4,
   "metadata": {},
   "outputs": [
    {
     "name": "stdout",
     "output_type": "stream",
     "text": [
      "Your phone is: 324\n"
     ]
    }
   ],
   "source": [
    "FALLBACK_PHONE = '+e00000000'\n",
    "\n",
    "\n",
    "def get_phone():\n",
    "    phone = input(\"Give me your phone: \")\n",
    "    if not phone:\n",
    "        # este es un error que solo será elevado si phone esta vacío.\n",
    "        return FALLBACK_PHONE.round()\n",
    "    return int(phone)\n",
    "\n",
    "\n",
    "def run():\n",
    "    my_phone = get_phone()\n",
    "    print(f'Your phone is: {my_phone}')\n",
    "\n",
    "\n",
    "run()"
   ]
  },
  {
   "cell_type": "markdown",
   "metadata": {},
   "source": [
    "Teniendo en cuenta esto, puede verse últil y hasta necesario el \"convertir\" a Python en un lenguaje de tipado estático."
   ]
  },
  {
   "cell_type": "markdown",
   "metadata": {},
   "source": [
    "### ¿Cómo convertir a Python a un lenguaje de tipado Estático?\n",
    "\n",
    "Para convertir a python en un lenguaje de tipado estático podemos intentar la declaración de variables.\n",
    "\n",
    "    En variables:\n",
    "    "
   ]
  },
  {
   "cell_type": "code",
   "execution_count": null,
   "metadata": {},
   "outputs": [],
   "source": [
    "a: int = 5\n",
    "print(a)\n",
    "\n",
    "b: str = \"Hi\"\n",
    "print(b)\n",
    "\n",
    "c: bool = True\n",
    "print(c)"
   ]
  },
  {
   "cell_type": "markdown",
   "metadata": {},
   "source": [
    "    En funciones:"
   ]
  },
  {
   "cell_type": "code",
   "execution_count": null,
   "metadata": {},
   "outputs": [],
   "source": [
    "def suma(a: int, b: int) -> int:\n",
    "    # '->' especifica el tipo de dato que retorna la función.\n",
    "    return a + b"
   ]
  },
  {
   "cell_type": "markdown",
   "metadata": {},
   "source": [
    "Sin embargo, pese a que ya declaramos el tipo de dato de entrada y de salida como tipo int si le damos como parámetros de entrada dos strings, python igualmente haría su trabajo y devolvería la concatenación de las strings, almenos por ahora, pues esta carácterística aún es nueva en python.\n"
   ]
  },
  {
   "cell_type": "code",
   "execution_count": null,
   "metadata": {},
   "outputs": [],
   "source": [
    "print(suma('1', '3'))"
   ]
  },
  {
   "cell_type": "markdown",
   "metadata": {},
   "source": [
    "Por lo tanto, para lograr el tipado Estático necesitamos algunas herramientas extras; las librerias ***typing*** y ***mypy***\n",
    "\n",
    "###### **Nota**: Si estas en python 3.9 en adelante, se puede hacer con las palabras clave de ese tipo. Pero si estas entre la 3.6 y 3.9 está es la manera, y esta es la manera que más común se encuentra en internet XD, por el momento claro... supongo.\n",
    "\n",
    "    typing\n",
    "\n",
    "***typing*** es una librería que nos permite realizar la declaración de varibales en estructuras complejas (List, Tuple, Dict): \n"
   ]
  },
  {
   "cell_type": "code",
   "execution_count": null,
   "metadata": {},
   "outputs": [],
   "source": [
    "\n",
    "from typing import Dict, List, Tuple  # Se importan las clases Dict y List\n",
    "\n",
    "\n",
    "# <nombre>: ... = es un alies\n",
    "\n",
    "positives: List[int] = [1, 2, 3, 4, 5]\n",
    "\n",
    "users: Dict[str, int] = {\n",
    "    'Argentina': 1,\n",
    "    'Mexico': 34,\n",
    "    'Colombia': 45,\n",
    "}\n",
    "\n",
    "countries: List[Dict[str, str]] = [\n",
    "    {\n",
    "        'name': 'Argentia',\n",
    "        'people': '450000', \n",
    "    },\n",
    "    {\n",
    "        'name': 'México',\n",
    "        'people': '900000', \n",
    "    },\n",
    "    {\n",
    "        'name': 'Colombia',\n",
    "        'people': '9047794200', \n",
    "    },\n",
    "    \n",
    "]\n",
    "\n",
    "\n",
    "numbers: Tuple[int, float, int] = (1, 33.2, 2)\n",
    "\n",
    "\n",
    "# ... aquí voy :p\n",
    "\n",
    "\n",
    "# Se supone que esto solo está disponible de python 3.6 en adelante XD"
   ]
  },
  {
   "cell_type": "markdown",
   "metadata": {},
   "source": [
    "    mypy"
   ]
  },
  {
   "cell_type": "markdown",
   "metadata": {},
   "source": [
    "***mypy*** es un módulo que nos permitirá examinar si nuestro codigo contiene estos errores de tipo.\n",
    "\n",
    "Para esto hay que instalarlo en tu entorno de trabajo (pilp install mypy, conda install mypy, etc...), y se ejecuta en la terminal con: *mypy reto_numero_primo.py --check-untyped-defs*"
   ]
  }
 ],
 "metadata": {
  "kernelspec": {
   "display_name": "Python 3.10.4 ('pyAvanzado')",
   "language": "python",
   "name": "python3"
  },
  "language_info": {
   "codemirror_mode": {
    "name": "ipython",
    "version": 3
   },
   "file_extension": ".py",
   "mimetype": "text/x-python",
   "name": "python",
   "nbconvert_exporter": "python",
   "pygments_lexer": "ipython3",
   "version": "3.10.4"
  },
  "orig_nbformat": 4,
  "vscode": {
   "interpreter": {
    "hash": "0a7deec57178396c3e8c71fef399a00c12a6e84d7adbeee3e210ded59b96a3b2"
   }
  }
 },
 "nbformat": 4,
 "nbformat_minor": 2
}
