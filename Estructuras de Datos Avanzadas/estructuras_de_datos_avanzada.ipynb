{
 "cells": [
  {
   "cell_type": "markdown",
   "metadata": {},
   "source": [
    "# Estructuras de Datos Avanzadas\n",
    "\n",
    "## Iteradores\n",
    "\n",
    "Python no puede recorrer elementos de estructuras como list, tuple, etc. Lo que python realiza es crear un iterador equivalente a la estructura a recorrer, del cual si puede extraer sus elementos."
   ]
  },
  {
   "cell_type": "code",
   "execution_count": 1,
   "metadata": {},
   "outputs": [
    {
     "name": "stdout",
     "output_type": "stream",
     "text": [
      "1\n",
      "2\n",
      "3\n",
      "4\n"
     ]
    }
   ],
   "source": [
    "#Se crea un iterador con la función iter()\n",
    "my_list = [1, 2, 3, 4]\n",
    "my_iter = iter(my_list)\n",
    "\n",
    "#Se extraer los elementos del iterador hasta que acaben los elementos (es decir, hasta que se devuelva el error StopIteration)\n",
    "while True:\n",
    "    try:\n",
    "        element = next(my_iter)\n",
    "        print(element)\n",
    "    except StopIteration:\n",
    "        break\n"
   ]
  },
  {
   "cell_type": "markdown",
   "metadata": {},
   "source": [
    "Y esto es lo que realiza un ciclo **For** internamente, pues en python el ciclo no existe como lo conocemos; **For** es un alias que ejecuta el código que vimos anteriormente."
   ]
  },
  {
   "cell_type": "code",
   "execution_count": 2,
   "metadata": {},
   "outputs": [
    {
     "name": "stdout",
     "output_type": "stream",
     "text": [
      "1\n",
      "2\n",
      "3\n",
      "4\n"
     ]
    }
   ],
   "source": [
    "for element in my_list:\n",
    "    print(element)"
   ]
  },
  {
   "cell_type": "markdown",
   "metadata": {},
   "source": [
    "### ¿Cómo podemos crear un iterador?\n",
    "\n",
    "El protocolo para construir un iterador indica que para construir un iterador tenemos que crear una clase que incluya los métodos *dunder iter* y *dunder next* ( **__ iter __** y **__ next __** ); como por ejemplo:\n"
   ]
  },
  {
   "cell_type": "code",
   "execution_count": 4,
   "metadata": {},
   "outputs": [],
   "source": [
    "class EvenNumbers:\n",
    "\n",
    "    ### Clase que implementa un iterador de todos los números pares, \n",
    "    ### o de todos los números pares hasta cierto número.\n",
    "    \n",
    "    ## Método constructor\n",
    "    def __init__(self, max=None):\n",
    "        self.max = max\n",
    "\n",
    "    ## Método iter\n",
    "    def __iter__(self):\n",
    "        self.num = 0\n",
    "        return self\n",
    "\n",
    "    ## Método next\n",
    "    def __next__(self):\n",
    "        if not self.max or self.num <= self.max:\n",
    "            result = self.num\n",
    "            self.num =+ 2\n",
    "            return result\n",
    "        else:\n",
    "            raise StopIteration\n",
    "        \n"
   ]
  },
  {
   "cell_type": "markdown",
   "metadata": {},
   "source": [
    "### Ventajas de usar Iteradores?\n",
    "\n",
    "Usar iteradores nos ahorra espacio y recursos, pues con un iterador podemos \"almacenar\" secuencias de números más complejas sin la necesidad de estrictamente almacenarlos en una estructura, pues un iterador lo que realiza es brindar un \"método\" o \"fórmula\" para acceder a esta secencia cuando se necesite.\n",
    "\n",
    "Por ejemplo:\n"
   ]
  },
  {
   "cell_type": "code",
   "execution_count": 3,
   "metadata": {},
   "outputs": [
    {
     "name": "stdout",
     "output_type": "stream",
     "text": [
      "0\n",
      "1\n",
      "1\n",
      "2\n",
      "3\n",
      "5\n",
      "8\n",
      "13\n",
      "21\n",
      "34\n",
      "55\n",
      "89\n",
      "144\n",
      "233\n",
      "377\n",
      "610\n",
      "987\n",
      "1597\n"
     ]
    }
   ],
   "source": [
    "# Sucesión de Fibonacci\n",
    "\n",
    "import time\n",
    "\n",
    "class FiboIter():\n",
    "\n",
    "    def __iter__(self):\n",
    "        self.n1: int = 0\n",
    "        self.n2: int = 1\n",
    "        self.counter: int = 0\n",
    "        return self\n",
    "\n",
    "    def __next__(self):\n",
    "        if self.counter == 0:\n",
    "            self.counter += 1\n",
    "            return self.n1\n",
    "        elif self.counter == 1:\n",
    "            self.counter += 1\n",
    "            return self.n2\n",
    "        else:\n",
    "            self.aux: int = self.n1 + self.n2\n",
    "            # self.n1 = self.n2\n",
    "            # self.n2 = self.aux\n",
    "            self.n1, self.n2 = self.n2, self.aux \n",
    "            self.counter += 1\n",
    "            return self.aux\n",
    "\n",
    "def run():\n",
    "    fibonacci = FiboIter()\n",
    "    for element in fibonacci:\n",
    "        print(element)\n",
    "        time.sleep(0.005)\n",
    "\n",
    "        ## Para que no se me vaya a infinito jeje\n",
    "        if element > 1000:\n",
    "            break\n",
    "\n",
    "run()\n",
    "        "
   ]
  },
  {
   "cell_type": "markdown",
   "metadata": {},
   "source": [
    "## Generadores\n",
    "\n",
    "Funciones que guardan estados. Son azúcar sintáctica de los iteradores.\n",
    "\n",
    "Se construyen de la siguiente forma:\n"
   ]
  },
  {
   "cell_type": "code",
   "execution_count": 7,
   "metadata": {},
   "outputs": [
    {
     "name": "stdout",
     "output_type": "stream",
     "text": [
      "Hello\n",
      "0\n",
      "Hello\n",
      "1\n",
      "Hi\n",
      "2\n"
     ]
    }
   ],
   "source": [
    "def my_gen():\n",
    "\n",
    "    ###Un ejemplo de generador###\n",
    "    \n",
    "    print(\"Hello\")\n",
    "    n = 0\n",
    "    yield n\n",
    "\n",
    "    print(\"Hello\")\n",
    "    n = 1\n",
    "    yield n\n",
    "    \n",
    "    print(\"Hi\")\n",
    "    n = 2\n",
    "    yield n\n",
    "\n",
    "a = my_gen()\n",
    "print(next(a))\n",
    "print(next(a))\n",
    "print(next(a))\n",
    "# print(next(a)) StopIteration"
   ]
  },
  {
   "cell_type": "markdown",
   "metadata": {},
   "source": [
    "Es importante saber que **yield** cumple una función igual a la de **return**, solo que este además causa que la siguiente vez que se ejecute la función esta se ejecute desde ese punto, por lo que se podría decir que en lugar de ser una termiación, como **return**, es una pausa.\n",
    "\n",
    "### Generator Expression\n",
    "\n",
    "Las *Generator Expressions* son, al igual que las *List y Dict Comprehension*, una manera simplificada de crear un generador: "
   ]
  },
  {
   "cell_type": "code",
   "execution_count": null,
   "metadata": {},
   "outputs": [],
   "source": [
    "### Generator Expression\n",
    "\n",
    "my_list = [1, 2, 3, 4, 5, 6]\n",
    "\n",
    "my_second_list = [x*2 for x in my_list]\n",
    "my_generator = (x*2 for x in my_list)"
   ]
  },
  {
   "cell_type": "markdown",
   "metadata": {},
   "source": [
    "Como se puede ver, una Generator Expression es igual a una comprehension, solo cambiando los [] por ().\n",
    "\n",
    "### Fibonacci con Generator"
   ]
  },
  {
   "cell_type": "code",
   "execution_count": 12,
   "metadata": {},
   "outputs": [
    {
     "name": "stdout",
     "output_type": "stream",
     "text": [
      "0\n",
      "1\n",
      "1\n",
      "2\n",
      "3\n",
      "5\n",
      "8\n",
      "13\n",
      "21\n",
      "34\n",
      "55\n",
      "89\n",
      "144\n",
      "233\n",
      "377\n",
      "610\n",
      "987\n"
     ]
    }
   ],
   "source": [
    "### Fibonacci pero con Generator\n",
    "\n",
    "def fibonacci_generator(max=None):\n",
    "    n1 = 0\n",
    "    n2 = 1\n",
    "    aux = 0\n",
    "    counter = 0\n",
    "\n",
    "    aux = 0\n",
    "\n",
    "    while True:\n",
    "        if counter == 0:\n",
    "            yield 0\n",
    "            counter += 1\n",
    "        elif counter == 1:\n",
    "            yield 1\n",
    "            counter += 1\n",
    "        else:\n",
    "            aux = n1 + n2\n",
    "            if not max or aux <= max:\n",
    "                n1, n2 = n2, aux\n",
    "                yield aux\n",
    "                counter += 1\n",
    "            else:\n",
    "                break\n",
    "                #raise StopIteration\n",
    "\n",
    "def fibonacci_generator_simplificado(max=None):\n",
    "    n1, n2 = 0, 1\n",
    "\n",
    "    while True:\n",
    "        if not max or n1 <= max:\n",
    "            yield n1\n",
    "            n1, n2 = n2, n1+n2\n",
    "        else:\n",
    "            break\n",
    "\n",
    "        \n",
    "fibonacci = fibonacci_generator_simplificado(1000)\n",
    "for element in fibonacci:\n",
    "    print(element)"
   ]
  },
  {
   "cell_type": "markdown",
   "metadata": {},
   "source": [
    "## Sets\n",
    "\n",
    "Los *sets* son una colección **desordenada** de **elementos únicos e inmutables** (Nota: Los elementos son los inmutables)"
   ]
  },
  {
   "cell_type": "code",
   "execution_count": 14,
   "metadata": {},
   "outputs": [
    {
     "name": "stdout",
     "output_type": "stream",
     "text": [
      "my_set1 =  {3, 4, 5}\n",
      "my_set2 =  {False, True, 4.4, 'Hola'}\n",
      "my_set3 =  {3, 5}\n"
     ]
    }
   ],
   "source": [
    "my_set1 = {3, 4, 5}\n",
    "print(\"my_set1 = \", my_set1)\n",
    "\n",
    "my_set2 = {\"Hola\", 4.4, True, False}\n",
    "print(\"my_set2 = \", my_set2)\n",
    "\n",
    "my_set3 = {3, 3, 5}\n",
    "print(\"my_set3 = \", my_set3)\n",
    "\n",
    "#my_set4 = {[3, 4, 5], 0, \"a\"} \n",
    "##print(\"my_set4 = \", my_set4)  ## TypeError: unhashable type: 'list'"
   ]
  },
  {
   "cell_type": "markdown",
   "metadata": {},
   "source": [
    "Para poder crear un set vacío y distinguirlo de un diccionario se debe usar set():\n"
   ]
  },
  {
   "cell_type": "code",
   "execution_count": 18,
   "metadata": {},
   "outputs": [
    {
     "name": "stdout",
     "output_type": "stream",
     "text": [
      "<class 'dict'>\n",
      "<class 'set'>\n"
     ]
    }
   ],
   "source": [
    "empty_set = {}\n",
    "print(type(empty_set))\n",
    "\n",
    "empty_set = set()\n",
    "print(type(empty_set))"
   ]
  },
  {
   "cell_type": "markdown",
   "metadata": {},
   "source": [
    "Para convertir otra estructura en un set también se usa set():\n"
   ]
  },
  {
   "cell_type": "code",
   "execution_count": 22,
   "metadata": {},
   "outputs": [
    {
     "name": "stdout",
     "output_type": "stream",
     "text": [
      "{1, 2, 3, 4, 5, 6}\n",
      "{('Hi', 'Hi'), 54, 'Hi'}\n"
     ]
    }
   ],
   "source": [
    "my_list = [1, 1, 2, 2, 3, 4, 5, 6]\n",
    "my_set = set(my_list)\n",
    "print(my_set)\n",
    "\n",
    "my_tuple = (\"Hi\", \"Hi\", (\"Hi\", \"Hi\"), 54)\n",
    "my_set2 = set(my_tuple)\n",
    "print(my_set2)"
   ]
  },
  {
   "cell_type": "markdown",
   "metadata": {},
   "source": [
    "Para añadir un elemento a un set, se usa el método add():\n"
   ]
  },
  {
   "cell_type": "code",
   "execution_count": null,
   "metadata": {},
   "outputs": [],
   "source": [
    "my_set2.add(\"Nuevo elemento\")\n",
    "print(my_set2)"
   ]
  },
  {
   "cell_type": "markdown",
   "metadata": {},
   "source": [
    "Para añadir varios elementos, se usa el método update(), los elementos deben pasarse por medio otra estructura de datos, cimo tuple o set, que no sea List:\n"
   ]
  },
  {
   "cell_type": "code",
   "execution_count": 26,
   "metadata": {},
   "outputs": [
    {
     "name": "stdout",
     "output_type": "stream",
     "text": [
      "{1, 3, 4, ('Hi', 'Hi'), 54, 'Hi'}\n",
      "{1, 3, 4, 8, ('Hi', 'Hi'), 54, 'Hi'}\n"
     ]
    }
   ],
   "source": [
    "my_set2.update((1, 3, 4, 4))\n",
    "print(my_set2)\n",
    "\n",
    "my_set2.update((1, 3, 4, 4), {1, 3, 8})\n",
    "print(my_set2)\n"
   ]
  },
  {
   "cell_type": "markdown",
   "metadata": {},
   "source": [
    "Para remover elementos podemos utilizar tanto como **discard** como **remove**\n",
    "\n",
    "Los dos fucionan exactamete igual, pero es importante tener en cuenta que al intentarse remover un elemento inexistente con **remove** se devolverá un error, en cambio al hacerlo con **discard** este simplemente devolverá el mismo set:"
   ]
  },
  {
   "cell_type": "code",
   "execution_count": 1,
   "metadata": {},
   "outputs": [
    {
     "name": "stdout",
     "output_type": "stream",
     "text": [
      "{1, 2, 3, 4, 5}\n",
      "{1, 3, 4, 5}\n",
      "{3, 4, 5}\n",
      "{3, 4, 5}\n"
     ]
    },
    {
     "ename": "KeyError",
     "evalue": "9",
     "output_type": "error",
     "traceback": [
      "\u001b[0;31m---------------------------------------------------------------------------\u001b[0m",
      "\u001b[0;31mKeyError\u001b[0m                                  Traceback (most recent call last)",
      "\u001b[1;32m/home/cpizar/Personal_/Cursos_Platzi/Curso_Avanzado_Python/estructuras_de_datos_avanzada.ipynb Cell 26\u001b[0m in \u001b[0;36m<cell line: 13>\u001b[0;34m()\u001b[0m\n\u001b[1;32m     <a href='vscode-notebook-cell://wsl%2Bubuntu-20.04/home/cpizar/Personal_/Cursos_Platzi/Curso_Avanzado_Python/estructuras_de_datos_avanzada.ipynb#X34sdnNjb2RlLXJlbW90ZQ%3D%3D?line=9'>10</a>\u001b[0m my_set\u001b[39m.\u001b[39mdiscard(\u001b[39m8\u001b[39m)\n\u001b[1;32m     <a href='vscode-notebook-cell://wsl%2Bubuntu-20.04/home/cpizar/Personal_/Cursos_Platzi/Curso_Avanzado_Python/estructuras_de_datos_avanzada.ipynb#X34sdnNjb2RlLXJlbW90ZQ%3D%3D?line=10'>11</a>\u001b[0m \u001b[39mprint\u001b[39m(my_set)\n\u001b[0;32m---> <a href='vscode-notebook-cell://wsl%2Bubuntu-20.04/home/cpizar/Personal_/Cursos_Platzi/Curso_Avanzado_Python/estructuras_de_datos_avanzada.ipynb#X34sdnNjb2RlLXJlbW90ZQ%3D%3D?line=12'>13</a>\u001b[0m my_set\u001b[39m.\u001b[39;49mremove(\u001b[39m9\u001b[39;49m)\n\u001b[1;32m     <a href='vscode-notebook-cell://wsl%2Bubuntu-20.04/home/cpizar/Personal_/Cursos_Platzi/Curso_Avanzado_Python/estructuras_de_datos_avanzada.ipynb#X34sdnNjb2RlLXJlbW90ZQ%3D%3D?line=13'>14</a>\u001b[0m \u001b[39mprint\u001b[39m(my_set)\n",
      "\u001b[0;31mKeyError\u001b[0m: 9"
     ]
    }
   ],
   "source": [
    "my_set = {1, 2, 3, 4, 5}\n",
    "print(my_set)\n",
    "\n",
    "my_set.discard(2)\n",
    "print(my_set)\n",
    "\n",
    "my_set.remove(1)\n",
    "print(my_set)\n",
    "\n",
    "my_set.discard(8)\n",
    "print(my_set)\n",
    "\n",
    "# my_set.remove(9) KeyError: 9\n",
    "# print(my_set)\n"
   ]
  },
  {
   "cell_type": "markdown",
   "metadata": {},
   "source": [
    "También tenemos **pop()** y **clear()**, que sirven, respectivamente, para eliminar un elemento \"aleatorio\" (...) y para limpiar todo el set."
   ]
  },
  {
   "cell_type": "code",
   "execution_count": 8,
   "metadata": {},
   "outputs": [
    {
     "name": "stdout",
     "output_type": "stream",
     "text": [
      "{2, 3, 4, 5, 6, 7, 8}\n",
      "{3, 4, 5, 6, 7, 8}\n",
      "{4, 5, 6, 7, 8}\n",
      "set()\n"
     ]
    }
   ],
   "source": [
    "my_set = {1, 2, 3, 4, 5, 6, 7, 8}\n",
    "\n",
    "my_set.pop()\n",
    "print(my_set)\n",
    "my_set.pop()\n",
    "print(my_set)\n",
    "my_set.pop()\n",
    "print(my_set)\n",
    "\n",
    "my_set.clear()\n",
    "print(my_set)"
   ]
  },
  {
   "cell_type": "markdown",
   "metadata": {},
   "source": [
    "### Operaciones entre sets\n",
    "\n",
    "Entre sets podemos aplicar las operaciones lógicas de:\n",
    "\n",
    "- Unión                 ( | )\n",
    "- Intersección          ( & ) \n",
    "- Diferencia            ( - )\n",
    "- Diferencia Simétrica ( ^ )\n",
    "\n",
    "De la siguiente forma:\n"
   ]
  },
  {
   "cell_type": "code",
   "execution_count": 5,
   "metadata": {},
   "outputs": [
    {
     "name": "stdout",
     "output_type": "stream",
     "text": [
      "{1, 2, 3, 4, 5, 6, 7, 8, 9, 10, 'HOla', (2, 3, 4)}\n",
      "{1, 3, 4, 5, 6, 'HOla'}\n",
      "{8, 9, 2, 7}\n",
      "{2, 7, 8, 9, 10, (2, 3, 4)}\n"
     ]
    }
   ],
   "source": [
    "my_set1 = {1, 3, 4, 5, 6, 10, (2, 3, 4), \"HOla\"}\n",
    "my_set2 = {1, 2, 3, 4, 5, 6, 7, 8, 9, \"HOla\"}\n",
    "\n",
    "## Unión\n",
    "my_set_union = my_set1 | my_set2\n",
    "print(my_set_union)\n",
    "\n",
    "## Intersección\n",
    "my_set_interseccion = my_set1 & my_set2\n",
    "print(my_set_interseccion)\n",
    "\n",
    "# Diferencia\n",
    "my_set_diferencia = my_set2 - my_set1\n",
    "print(my_set_diferencia)\n",
    "\n",
    "# Diferencia Simétrica (Lo contrario a la itersección)\n",
    "my_set_diferencia_sim = my_set2 ^ my_set1\n",
    "print(my_set_diferencia_sim)\n"
   ]
  },
  {
   "cell_type": "markdown",
   "metadata": {},
   "source": [
    "Para eliminar elementos reetidos de una estructura con sets:\n"
   ]
  },
  {
   "cell_type": "code",
   "execution_count": 8,
   "metadata": {},
   "outputs": [
    {
     "name": "stdout",
     "output_type": "stream",
     "text": [
      "[1, 2, 3]\n"
     ]
    }
   ],
   "source": [
    "def eliminar_repetidos(lista: list) -> list:\n",
    "    return list(set(lista))\n",
    "\n",
    "my_list = [1, 1, 1, 2, 3, 2]\n",
    "\n",
    "print(eliminar_repetidos(my_list))"
   ]
  }
 ],
 "metadata": {
  "kernelspec": {
   "display_name": "Python 3.8.10 64-bit",
   "language": "python",
   "name": "python3"
  },
  "language_info": {
   "codemirror_mode": {
    "name": "ipython",
    "version": 3
   },
   "file_extension": ".py",
   "mimetype": "text/x-python",
   "name": "python",
   "nbconvert_exporter": "python",
   "pygments_lexer": "ipython3",
   "version": "3.8.10"
  },
  "orig_nbformat": 4,
  "vscode": {
   "interpreter": {
    "hash": "916dbcbb3f70747c44a77c7bcd40155683ae19c65e1c03b4aa3499c5328201f1"
   }
  }
 },
 "nbformat": 4,
 "nbformat_minor": 2
}
